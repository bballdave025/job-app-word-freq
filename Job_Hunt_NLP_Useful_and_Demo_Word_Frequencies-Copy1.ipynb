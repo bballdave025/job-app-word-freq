{
 "cells": [
  {
   "cell_type": "markdown",
   "id": "f5fbcc01",
   "metadata": {},
   "source": [
    "# Job-Hunt NLP Demo\n",
    "\n",
    "Which demo will also be useful in doing some quick NLP work to see how my résumé's word distribution matches that from job descriptions.\n",
    "\n",
    "There's a wonderful project out there, [MyBinder](https://mybinder.org), which allows you to interactively run a Jupyter notebook completely online. It's nice to have when you'd like to play with code and see better the outputs that come from running that code. I've had some problems with images going down, but I'm going to work to keep this one up.\n",
    "\n",
    "The link to the online, interactive notebook - the binder - will be at the badge you see right here\n",
    "\n",
    "[![Binder](https://mybinder.org/badge_logo.svg)](https://mybinder.org/v2/gh/bballdave025/ancestry-freq/main?labpath=Ancestry_NLP_Useful_and_Demo.ipynb)\n",
    "\n",
    "when I figure out how to get the Binder to stay.\n",
    "\n",
    "<strike>Go ahead and give it a try!</strike> \\[Soon!\\]\n",
    "\n",
    "<hr/>"
   ]
  },
  {
   "cell_type": "markdown",
   "id": "c200897a",
   "metadata": {},
   "source": [
    "## My setup from the Conda Prompt\n",
    "\n",
    "I'm in Windows for this one. I created a repo with the right name on GitHub, then\n",
    "\n",
    "```\n",
    "(base) <path>\\my_repos>git clone git@github.com:bballdave025/job-app-word-freq.git\n",
    "Cloning into 'job-app-word-freq'...\n",
    "Enter passphrase for key '/c/Users/Anast/.ssh/id_██':\n",
    "remote: Enumerating objects: 5, done.\n",
    "remote: Counting objects: 100% (5/5), done.\n",
    "remote: Compressing objects: 100% (5/5), done.\n",
    "remote: Total 5 (delta 0), reused 0 (delta 0), pack-reused 0\n",
    "Receiving objects: 100% (5/5), 14.02 KiB | 1.56 MiB/s, done.\n",
    "\n",
    "(base) <path>\\my_repos>cd job-app-word-freq\n",
    "\n",
    "(base) <path>\\my_repos\\job-app-word-freq>dir\n",
    " Volume in drive C is OS\n",
    " Volume Serial Number is ████-████\n",
    "\n",
    " Directory of <path>\\my_repos\\job-app-word-freq\n",
    "\n",
    "07/22/2023  06:04 PM    <DIR>          .\n",
    "07/22/2023  06:04 PM    <DIR>          ..\n",
    "07/22/2023  06:04 PM             3,078 .gitignore\n",
    "07/22/2023  06:04 PM            35,149 LICENSE\n",
    "07/22/2023  06:04 PM                93 README.md\n",
    "               3 File(s)         38,320 bytes\n",
    "               2 Dir(s)  751,770,595,328 bytes free\n",
    "\n",
    "(base) <path>\\job-app-word-freq>::  After some dinner, let's see\n",
    "(base) <path>\\job-app-word-freq>::+ how quick and reckless I can\n",
    "(base) <path>\\job-app-word-freq>::+ be in setting up this word-\n",
    "(base) <path>\\job-app-word-freq>::+ frequency analyzer for job\n",
    "(base) <path>\\job-app-word-freq>::+ applications\n",
    "(base) >\n",
    "(base) >::  I'm in the Anaconda Prompt (miniconda3)\n",
    "(base) >\n",
    "(base) > ^\n",
    "More? powershell -c (Get-Date -UFormat \"%s_%Y%m%dT%H%M%S%Z00\") ^\n",
    "More? -replace '[.][0-9]*_', '_'\n",
    "1690108602_20230723T103642-0600\n",
    "\n",
    "(base) >\n",
    "(base) >::  Or, instead of after dinner,\n",
    "(base) >::+ after the whole day.\n",
    "(base) >\n",
    "(base) >::  Q&R\n",
    "(base) >\n",
    "(base) >\"C:\\Program Files (x86)\\Notepad++\\notepad++.exe\" .gitignore\n",
    "\n",
    "(base) >\n",
    "(base) >git status\n",
    "On branch main\n",
    "Your branch is up to date with 'origin/main'.\n",
    "\n",
    "Changes not staged for commit:\n",
    "  (use \"git add <file>...\" to update what will be committed)\n",
    "  (use \"git restore <file>...\" to discard changes in working directory)\n",
    "        modified:   .gitignore\n",
    "\n",
    "Untracked files:\n",
    "  (use \"git add <file>...\" to include in what will be committed)\n",
    "        .gitattributes\n",
    "\n",
    "no changes added to commit (use \"git add\" and/or \"git commit -a\")\n",
    "\n",
    "(base) >git branch\n",
    "* main\n",
    "\n",
    "(base) >:: Not best practice, but Q&R\n",
    "(base) >git add --all\n",
    "\n",
    "(base) >git commit -m \"Template .gitignore, moved .gitattributes comments to end\"\n",
    "[main 220d76f] Template .gitignore, moved .gitattributes comments to end\n",
    " 2 files changed, 102 insertions(+)\n",
    " create mode 100644 .gitattributes\n",
    "\n",
    "(base) >git push\n",
    "Enter passphrase for key '/c/Users/bballdave025/.ssh/id_██':\n",
    "Enumerating objects: 6, done.\n",
    "Counting objects: 100% (6/6), done.\n",
    "Delta compression using up to 8 threads\n",
    "Compressing objects: 100% (4/4), done.\n",
    "Writing objects: 100% (4/4), 1.89 KiB | 1.89 MiB/s, done.\n",
    "Total 4 (delta 1), reused 0 (delta 0), pack-reused 0\n",
    "remote: Resolving deltas: 100% (1/1), completed with 1 local object.\n",
    "To github.com:bballdave025/job-app-word-freq.git\n",
    "   829e9e7..220d76f  main -> main\n",
    "\n",
    "(base) >\n",
    "(base) >:: Let's set up our\n",
    "(base) >::+ conda environment.\n",
    "(base) >\n",
    "(base) >dir\n",
    " Volume in drive C is OS\n",
    " Volume Serial Number is ████-████\n",
    "\n",
    " Directory of <path>\\my_repos\\job-app-word-freq\n",
    "\n",
    "07/23/2023  10:42 AM    <DIR>          .\n",
    "07/23/2023  10:42 AM    <DIR>          ..\n",
    "07/23/2023  10:47 AM             2,341 .gitattributes\n",
    "07/23/2023  10:47 AM             3,942 .gitignore\n",
    "07/22/2023  06:04 PM            35,149 LICENSE\n",
    "07/22/2023  06:04 PM                93 README.md\n",
    "               4 File(s)         41,525 bytes\n",
    "               2 Dir(s)  751,267,094,528 bytes free\n",
    "\n",
    "(base) >git checkout -b quick-word-freq\n",
    "Switched to a new branch 'quick-word-freq'\n",
    "\n",
    "(base) >python -m pip install --upgrade pip\n",
    "Defaulting to user installation because normal site-packages is not writeable\n",
    "Requirement already satisfied: pip in c:\\programdata\\miniconda3\\lib\\site-packages (23.0.1)\n",
    "Collecting pip\n",
    "  Downloading pip-23.2.1-py3-none-any.whl (2.1 MB)\n",
    "     ---------------------------------------- 2.1/2.1 MB 7.4 MB/s eta 0:00:00\n",
    "Installing collected packages: pip\n",
    "  WARNING: The scripts pip.exe, pip3.10.exe and pip3.exe are installed in 'C:\\Users\\bballdave025\\AppData\\Roaming\\Python\\Python310\\Scripts' which is not on PATH.\n",
    "  Consider adding this directory to PATH or, if you prefer to suppress this warning, use --no-warn-script-location.\n",
    "Successfully installed pip-23.2.1\n",
    "\n",
    "(base) >:: Quick and Reckless; Q&R; not using admin here\n",
    "(base) >\n",
    "(base) > ^\n",
    "More? conda create -y --name job_freak python=3.10 ^\n",
    "More? numpy matplotlib pandas pathlib requests beautifulsoup4 jupyter\n",
    "```\n",
    "\n",
    "This will take a little while, and there will be\n",
    "\n",
    "`:: LOTS OF OUTPUT                                                              `\n",
    "\n",
    "to go along with it, which output will end with\n",
    "\n",
    "`Executing transaction: done                                                    `<br/>\n",
    "`#                                                                              `<br/>\n",
    "`# To activate this environment, use                                            `<br/>\n",
    "`#                                                                              `<br/>\n",
    "`#    `<code>&#x24;</code>` conda activate job_freak                            `<br/>\n",
    "`#                                                                              `<br/>\n",
    "`# To deactivate an active environment, use                                     `<br/>\n",
    "`#                                                                              `<br/>\n",
    "`#    `<code>&#x24;</code>` conda deactivate                                    `<br/>\n",
    "`#                                                                              `<br/>\n",
    "```\n",
    "\n",
    "(base) >\n",
    "(base) >conda activate job_freak\n",
    "(job_freak) > :: # Note that I'm going to make an `environment.yml` file based on the output from two `conda env export` commands\n",
    "(job_freak) >conda env export --from-history\n",
    "name: job_freak\n",
    "channels:\n",
    "  - defaults\n",
    "dependencies:\n",
    "  - numpy\n",
    "  - jupyter\n",
    "  - pathlib\n",
    "  - beautifulsoup4\n",
    "  - python=3.10\n",
    "  - matplotlib\n",
    "  - pandas\n",
    "  - requests\n",
    "prefix: C:\\Users\\Anast\\.conda\\envs\\job_freak\n",
    "\n",
    "(job_freak) >conda env export --from-history > environment.yml\n",
    "\n",
    "(job_freak) >conda env export > environment_details.yml\n",
    "```\n",
    "\n",
    "That second one will allow me to put version information that otherwise wouldn't be available in the first one. \n",
    "\n",
    "Editing `environment.yml` using information from `environment_details.yml`\n",
    "\n",
    "That will be useful for MyBinder. So cool, MyBinder!\n",
    "\n",
    "(job_freak) >\n",
    "(job_freak) >:: I always keep the environment_details.yml folder,\n",
    "(job_freak) >:: ever since the issues with keras not being maintained,\n",
    "(job_freak) >:: but it still being part of a part of a lot of my\n",
    "(job_freak) >:: environment.yml files; before, environment.yml had\n",
    "(job_freak) >:: keras=<code>&lt;</code>version<code>&gt;</code>; now, we get tensorflow=version\n",
    "(job_freak) >:: Made for some interesting docker debugging.\n",
    "(job_freak) >\n",
    "(job_freak) >\n",
    "\n",
    "```\n",
    "(job_freak) >:: We end up with\n",
    "(job_freak) >type environment.yml\n",
    "name: job_freak\n",
    "channels:\n",
    "  - defaults\n",
    "dependencies:\n",
    "  - numpy=1.25\n",
    "  - jupyter=1.0.0\n",
    "  - pathlib=1.0.1\n",
    "  - beautifulsoup4=4.12.2\n",
    "  - python=3.10.12\n",
    "  - matplotlib=3.7.1\n",
    "  - pandas=1.5.3\n",
    "  - requests=2.29.0\n",
    "  - pip=23.0.1\n",
    "prefix: C:\\Users\\bballdave025\\.conda\\envs\\job_freak\n",
    "\n",
    "(job_freak) >\n",
    "(job_freak) >:: Last steps before going to church\n",
    "(job_freak) >\n",
    "(job_freak) >jupyter notebook\n",
    "```\n",
    "\n",
    ":: # In the main page, click \"New\" > \"Notebook: Python3 (ipykerner)\"\n",
    ":: # then to \"File\" > \"Save as...\"\n",
    ":: # Save it.\n",
    ":: # Copy all this stuff in there.\n",
    "\n",
    "```\n",
    ":: # Switching to another Anaconda Prompt (miniconda3)\n",
    "(base) >cd C:\\David\\my_repos\\job-app-word-freq\n",
    "<path>\\job-app-word-freq>conda activate job_freak\n",
    "(job_freak) >git status\n",
    "On branch quick-word-freq\n",
    "Untracked files:\n",
    "  (use \"git add <file>...\" to include in what will be committed)\n",
    "        Job_Hunt_NLP_Useful_and_Demo_Word_Frequencies.ipynb\n",
    "        Untitled.ipynb\n",
    "        environment.yml\n",
    "        environment_details.yml\n",
    "\n",
    "nothing added to commit but untracked files present (use \"git add\" to track)\n",
    "\n",
    "(job_freak) >git add --all\n",
    "warning: in the working copy of 'environment_details.yml', CRLF will be replaced by LF the next time Git touches it\n",
    "\n",
    "(job_freak) >git add --all\n",
    "\n",
    "(job_freak) >git commit -m \"Notebook started\"\n",
    "[quick-word-freq 1b12909] Notebook started\n",
    " 4 files changed, 521 insertions(+)\n",
    " create mode 100644 Job_Hunt_NLP_Useful_and_Demo_Word_Frequencies.ipynb\n",
    " create mode 100644 Untitled.ipynb\n",
    " create mode 100644 environment.yml\n",
    " create mode 100644 environment_details.yml\n",
    "\n",
    "(job_freak) >git push\n",
    "fatal: The current branch quick-word-freq has no upstream branch.\n",
    "To push the current branch and set the remote as upstream, use\n",
    "\n",
    "    git push --set-upstream origin quick-word-freq\n",
    "\n",
    "To have this happen automatically for branches without a tracking\n",
    "upstream, see 'push.autoSetupRemote' in 'git help config'.\n",
    "\n",
    "\n",
    "(job_freak) >git push --set-upstream origin quick-word-freq\n",
    "\n",
    "(job_freak) >\n",
    "(job_freak) > ^\n",
    "More? powershell -c (Get-Date -UFormat \"%s_%Y%m%dT%H%M%S%Z00\") ^\n",
    "More? -replace '[.][0-9]*_', '_'\n",
    "1690113083_20230723T115123-0600\n",
    "\n",
    "(job_freak) >\n",
    "\n",
    "```"
   ]
  },
  {
   "cell_type": "markdown",
   "id": "3adadc33",
   "metadata": {},
   "source": [
    "## Back on Day 3\n",
    "\n",
    "### How much time so far?"
   ]
  },
  {
   "cell_type": "code",
   "execution_count": null,
   "id": "91c18af9",
   "metadata": {},
   "outputs": [],
   "source": [
    "#######################\n",
    "# No need to run again\n",
    "#####\n",
    "!powershell -c (Get-Date -UFormat \"%s_%Y%m%dT%H%M%S%Z00\") -replace '[.][0-9]*_', '_'"
   ]
  },
  {
   "cell_type": "raw",
   "id": "745498d6",
   "metadata": {},
   "source": [
    "For right now, that gave:\n",
    "\n",
    "`1690197792_20230724T112312-0600`"
   ]
  },
  {
   "cell_type": "markdown",
   "id": "14bd4ea6",
   "metadata": {},
   "source": [
    "## Import for how-much-time updates"
   ]
  },
  {
   "cell_type": "code",
   "execution_count": null,
   "id": "d839d3f6",
   "metadata": {},
   "outputs": [],
   "source": [
    "import math"
   ]
  },
  {
   "cell_type": "code",
   "execution_count": null,
   "id": "eee5bb35",
   "metadata": {},
   "outputs": [],
   "source": [
    "#######################################################\n",
    "# RUN THIS ONE EACH TIME (AS WELL AS THE IMPORT ABOVE)\n",
    "#####\n",
    "\n",
    "# Find how long I've been working so far\n",
    "\n",
    "def time_total(timestamp_pairs_beg_and_end):\n",
    "    total_seconds = 0\n",
    "    for timestamp_pair in timestamp_pairs_beg_and_end:\n",
    "        begin_timestamp = timestamp_pair[0]\n",
    "        end_timestamp = timestamp_pair[1]\n",
    "        total_seconds += abs(end_timestamp - begin_timestamp)\n",
    "          ## Absolute value in case pair begin & end switched\n",
    "    ##endof:  for timestamp_pair in timestamp_pairs_beg_and_end\n",
    "    print(f\"total_seconds: {total_seconds}\")\n",
    "    n_seconds_per_minute = 60\n",
    "    total_minutes_fractional, total_minutes_integer = \\\n",
    "                math.modf(total_seconds / n_seconds_per_minute)\n",
    "    print(f\"total_minutes: {total_minutes_fractional + total_minutes_integer}\")\n",
    "    print(f\"{int(total_minutes_integer)} minutes \"\n",
    "          f\"and \"\n",
    "          f\"{round(total_minutes_fractional * n_seconds_per_minute)} seconds\")\n",
    "    n_minutes_per_hour = 60\n",
    "    total_hours_fractional, total_hours_integer = \\\n",
    "        math.modf(total_seconds / n_seconds_per_minute / n_minutes_per_hour)\n",
    "    print(f\"total_hours: {total_hours_integer + total_hours_fractional}\")\n",
    "    mins_after_hrs_frac, mins_after_hrs_int = \\\n",
    "        math.modf(total_hours_fractional * n_minutes_per_hour)\n",
    "    print(f\"{round(mins_after_hrs_frac + mins_after_hrs_int, 2)} minutes\"\n",
    "          f\" more than {int(total_hours_integer)} hours\")\n",
    "    n_sec_after_hm = round(mins_after_hrs_frac * n_seconds_per_minute)\n",
    "    print(f\"{int(total_hours_integer)} hours and \"\n",
    "          f\"{int(mins_after_hrs_int)} minutes and \"\n",
    "          f\"{n_sec_after_hm} seconds\")\n",
    "##endof:  time_total(timestamp_pairs_beg_and_end)"
   ]
  },
  {
   "cell_type": "code",
   "execution_count": null,
   "id": "1d6a7249",
   "metadata": {},
   "outputs": [],
   "source": [
    "#######################\n",
    "# No need to run again\n",
    "#####\n",
    "beg_and_end_timestamps = [[1690108602, 1690113083],]\n",
    "time_total(beg_and_end_timestamps)"
   ]
  },
  {
   "cell_type": "markdown",
   "id": "a7c02104",
   "metadata": {},
   "source": [
    "That gives me\n",
    "\n",
    "```\n",
    "total_seconds: 4481\n",
    "total_minutes: 74.68333333333334\n",
    "74 minutes and 41 seconds\n",
    "total_hours: 1.2447222222222223\n",
    "14.68 minutes more than 1 hours\n",
    "1 hours and 14 minutes and 41 seconds\n",
    "```\n",
    "\n",
    "at\n",
    "\n",
    "`1690197792_20230724T112312-0600`\n",
    "\n",
    "I'd like to get it done in two hours. What came before was prep. Where I am with time will determine whether I count that or not.\n",
    "\n",
    "The texts of my résumé, cover letter, and maybe previous job descriptions (probably after the original work) are in the local directory as (filenames will come after pasting and having lunch)."
   ]
  },
  {
   "cell_type": "code",
   "execution_count": null,
   "id": "7b54ef6f",
   "metadata": {},
   "outputs": [],
   "source": [
    "#######################\n",
    "# No need to run again\n",
    "#####\n",
    "!powershell -c (Get-Date -UFormat \"%s_%Y%m%dT%H%M%S%Z00\") -replace '[.][0-9]*_', '_'"
   ]
  },
  {
   "cell_type": "markdown",
   "id": "f461482f",
   "metadata": {},
   "source": [
    "Right now, that gives\n",
    "\n",
    "`1690198634_20230724T113714-0600`"
   ]
  },
  {
   "cell_type": "markdown",
   "id": "f8e0a51e",
   "metadata": {},
   "source": [
    "And back after scripture study (Acts 16-20 start)."
   ]
  },
  {
   "cell_type": "code",
   "execution_count": null,
   "id": "9525ce7c",
   "metadata": {},
   "outputs": [],
   "source": [
    "#######################\n",
    "# No need to run again\n",
    "#####\n",
    "!powershell -c (Get-Date -UFormat \"%s_%Y%m%dT%H%M%S%Z00\") -replace '[.][0-9]*_', '_'"
   ]
  },
  {
   "cell_type": "markdown",
   "id": "c7248913",
   "metadata": {},
   "source": [
    "Right now, we get\n",
    "\n",
    "`1690202804_20230724T124644-0600`"
   ]
  },
  {
   "cell_type": "code",
   "execution_count": null,
   "id": "31d12607",
   "metadata": {},
   "outputs": [],
   "source": [
    "#######################\n",
    "# No need to run again\n",
    "#####\n",
    "beg_and_end_timestamps = [[1690108602, 1690113083],[1690197792, 1690198634],]\n",
    "\n",
    "time_total(beg_and_end_timestamps)"
   ]
  },
  {
   "cell_type": "markdown",
   "id": "345e46c0",
   "metadata": {},
   "source": [
    "Now, at `1690202804_20230724T124644-0600`, we get\n",
    "\n",
    "```\n",
    "total_seconds: 5323\n",
    "total_minutes: 88.71666666666667\n",
    "88 minutes and 43 seconds\n",
    "total_hours: 1.478611111111111\n",
    "28.72 minutes more than 1 hours\n",
    "1 hours and 28 minutes and 43 seconds\n",
    "```"
   ]
  },
  {
   "cell_type": "markdown",
   "id": "ee2cd2cc",
   "metadata": {},
   "source": [
    "## Texts"
   ]
  },
  {
   "cell_type": "markdown",
   "id": "fefa141d",
   "metadata": {},
   "source": [
    "The texts of my résumé, cover letter, and maybe previous job descriptions (probably on a second run-through) have been copied and pasted into the following, local text files.\n",
    "\n",
    "```\n",
    "BLACK-David_Resume_FS_SrSoftwareDevEngineer_2023-07-22.txt\n",
    "BLACK-David_CoverLetter_FS_SrSoftwareDevEngineer_2023-07-22.txt\n",
    "```\n",
    "\n",
    "And I'm doing Q&R to not fix it any more.\n",
    "\n",
    "The job application is at\n",
    "\n",
    "https://epej.fa.us2.oraclecloud.com/hcmUI/CandidateExperience/en/sites/CX_1001/job/356975/?utm_medium=jobshare\n",
    "\n",
    "and archived at\n",
    "\n",
    "https://web.archive.org/web/20230724185343/https://epej.fa.us2.oraclecloud.com/hcmUI/CandidateExperience/en/sites/CX_1001/job/356975/\n",
    "\n",
    "I'll pull from the archived version, so there is no problem with anyone trying to reproduce this. I also won't worry about the similar jobs listed at the bottom. Quick & Reckless (Q&R)."
   ]
  },
  {
   "cell_type": "code",
   "execution_count": null,
   "id": "8877360f",
   "metadata": {},
   "outputs": [],
   "source": [
    "application_text_filenames = \\\n",
    "  [\"BLACK-David_Resume_FS_SrSoftwareDevEngineer_2023-07-22.txt\",\n",
    "   \"BLACK-David_CoverLetter_FS_SrSoftwareDevEngineer_2023-07-22.txt\"\n",
    "  ]"
   ]
  },
  {
   "cell_type": "markdown",
   "id": "50b647db",
   "metadata": {},
   "source": [
    "### Import statements for getting job-description text"
   ]
  },
  {
   "cell_type": "markdown",
   "id": "1c0c9535",
   "metadata": {},
   "source": [
    "Started this, but ran into problem with the job description website pulling from a database. I'll paste it and complete it, further down.\n",
    "\n",
    "```\n",
    "import requests\n",
    "import html\n",
    "import re\n",
    "import string\n",
    "import shutil\n",
    "\n",
    "import math # again, for checking amount of time used.\n",
    "\n",
    "from bs4 import BeautifulSoup\n",
    "from bs4 import UnicodeDammit\n",
    "\n",
    "def clean_text_string_quickly(input_str):\n",
    "    processing_str = input_str\n",
    "    \n",
    "    ## get rid of punctuation\n",
    "    \n",
    "    \n",
    "    ## get everything on one line\n",
    "    \n",
    "    ## get spacing right\n",
    "    \n",
    "    ## word replacements for common (found) contractions\n",
    "    \n",
    "    ## word replacements for numbers - especially found numbers\n",
    "    \n",
    "    \n",
    "##endof:  clean_text_string_quickly(input_str)\n",
    "```"
   ]
  },
  {
   "cell_type": "code",
   "execution_count": null,
   "id": "ce8f30a1",
   "metadata": {},
   "outputs": [],
   "source": [
    "local_job_desc_filename = \"Job_Description_SrSoftwareDevEngineer_2023-07-24.txt\""
   ]
  },
  {
   "cell_type": "code",
   "execution_count": null,
   "id": "cecf209f",
   "metadata": {},
   "outputs": [],
   "source": [
    "# Try 1 - from the archive\n",
    "\n",
    "# Let's test download, html parsing, and find contractions, numbers\n",
    "\n",
    "source_url = ( r\"https://web.archive.org/web/20230724185343/\"\n",
    "               r\"https://epej.fa.us2.oraclecloud.com/hcmUI/\"\n",
    "               r\"CandidateExperience/en/sites/CX_1001/job/356975/\"\n",
    "             )\n",
    "\n",
    "source_url = ( r\"https://epej.fa.us2.oraclecloud.com/hcmUI/\"\n",
    "               r\"CandidateExperience/en/sites/CX_1001/job/356975/\"\n",
    "             )\n",
    "\n",
    "complete_html_code_response = requests.get(source_url)\n",
    "\n",
    "print(f\"resp: {str(complete_html_code_response)}\")\n",
    "print()\n",
    "print()\n",
    "print()\n",
    "\n",
    "complete_html_as_text = complete_html_code_response.text\n",
    "\n",
    "print(f\"as text:\\n----------\\n{str(complete_html_as_text)}\\n----------\")\n",
    "print()\n",
    "print()\n",
    "print()\n",
    "\n",
    "soup_cleaner = BeautifulSoup(complete_html_as_text, 'html.parser')\n",
    "\n",
    "# Check encoding (and hope it starts out as utf-8)\n",
    "print(f\"original encoding: {str(soup_cleaner.original_encoding)}\")\n",
    "print()\n",
    "print()\n",
    "print()\n",
    "\n",
    "job_desc_init_str = soup_cleaner.body.get_text()\n",
    "\n",
    "print(f\"job_desc_init_str:\\n----------\\n{str(job_desc_init_str)}\\n----------\")\n",
    "print()\n",
    "print()\n",
    "print()\n",
    "\n",
    "print(\"######################################################\")\n",
    "print()\n",
    "print(\"Looks like JavaScript, ajax, etc.\")\n",
    "print(\"Let's try without the archive.org, but I doubt we'll get a difference.\")\n",
    "print(\"Actually, Q&R. Rather than looking through the code and finding what\")\n",
    "print(\"get pulled from the database, I'm just going to copy/paste the text\")\n",
    "print(f\"into {local_job_desc_filename}\")\n",
    "print()\n",
    "print(\"I'm pretty sure I'm over the original two hour goal, but we can\")\n",
    "print(\"say that getting the Jupyter Notebook ready wasn't part, so the\")\n",
    "print(\"total can go to 3h15m\")"
   ]
  },
  {
   "cell_type": "markdown",
   "id": "2fe2bc64",
   "metadata": {},
   "source": [
    "## Copying and pasting\n",
    "\n",
    "### Rather than building a webscraper again or following the script code"
   ]
  },
  {
   "cell_type": "markdown",
   "id": "57ee09d4",
   "metadata": {},
   "source": [
    "I'll now check my total time, then take a productivity-driving break."
   ]
  },
  {
   "cell_type": "code",
   "execution_count": null,
   "id": "c132e443",
   "metadata": {},
   "outputs": [],
   "source": [
    "#######################\n",
    "# No need to run again\n",
    "#####\n",
    "!powershell -c (Get-Date -UFormat \"%s_%Y%m%dT%H%M%S%Z00\") -replace '[.][0-9]*_', '_'"
   ]
  },
  {
   "cell_type": "markdown",
   "id": "fe8ca2c6",
   "metadata": {},
   "source": [
    "Right now, we get\n",
    "\n",
    "`1690206455_20230724T134735-0600`"
   ]
  },
  {
   "cell_type": "code",
   "execution_count": null,
   "id": "b1329f37",
   "metadata": {},
   "outputs": [],
   "source": [
    "#######################\n",
    "# No need to run again\n",
    "#####\n",
    "beg_and_end_timestamps = [[1690108602, 1690113083],[1690197792, 1690198634],[1690202804, 1690206455],]\n",
    "\n",
    "time_total(beg_and_end_timestamps)"
   ]
  },
  {
   "cell_type": "markdown",
   "id": "481ae8d7",
   "metadata": {},
   "source": [
    "Before the break, our output was\n",
    "\n",
    "```\n",
    "total_seconds: 8974\n",
    "total_minutes: 149.56666666666666\n",
    "149 minutes and 34 seconds\n",
    "total_hours: 2.4927777777777775\n",
    "29.57 minutes more than 2 hours\n",
    "2 hours and 29 minutes and 34 seconds\n",
    "```"
   ]
  },
  {
   "cell_type": "markdown",
   "id": "925107a7",
   "metadata": {},
   "source": [
    "## Getting and Cleaning Docs for Word Counts\n",
    "\n",
    "I'm back. I'll check in, then `git` everything."
   ]
  },
  {
   "cell_type": "code",
   "execution_count": null,
   "id": "486537a0",
   "metadata": {},
   "outputs": [],
   "source": [
    "#######################\n",
    "# No need to run again\n",
    "#####\n",
    "!powershell -c (Get-Date -UFormat \"%s_%Y%m%dT%H%M%S%Z00\") -replace '[.][0-9]*_', '_'"
   ]
  },
  {
   "cell_type": "markdown",
   "id": "0cff43bd",
   "metadata": {},
   "source": [
    "At this point, our response is\n",
    "\n",
    "`1690207465_20230724T140425-0600`"
   ]
  },
  {
   "cell_type": "code",
   "execution_count": null,
   "id": "ffe88361",
   "metadata": {},
   "outputs": [],
   "source": [
    "local_job_desc_filenames = [local_job_desc_filename]\n",
    "local_job_app_filenames = application_text_filenames\n",
    "\n",
    "import pprint\n",
    "\n",
    "pprint.pprint(local_job_desc_filenames)\n",
    "pprint.pprint(local_job_app_filenames)"
   ]
  },
  {
   "cell_type": "markdown",
   "id": "ab9ea0db",
   "metadata": {},
   "source": [
    "Output was\n",
    "\n",
    "```\n",
    "['Job_Description_SrSoftwareDevEngineer_2023-07-24.txt']\n",
    "['BLACK-David_Resume_FS_SrSoftwareDevEngineer_2023-07-22.txt',\n",
    " 'BLACK-David_CoverLetter_FS_SrSoftwareDevEngineer_2023-07-22.txt']\n",
    "```"
   ]
  },
  {
   "cell_type": "code",
   "execution_count": null,
   "id": "25c711fe",
   "metadata": {},
   "outputs": [],
   "source": [
    "# read in texts to original strings\n",
    "\n",
    "complete_description_text = \" \"\n",
    "complete_application_text = \" \"\n",
    "\n",
    "for this_description_filename in local_job_desc_filenames:\n",
    "    with open(this_description_filename, 'r', encoding='utf-8') as dfh:\n",
    "        complete_description_text += dfh.read()\n",
    "    ##endof:  with open ... dfh\n",
    "##endof:  for this_description_filename in local_job_desc_filenames\n",
    "\n",
    "for this_application_filename in local_job_app_filenames:\n",
    "    with open(this_application_filename, 'r', encoding='utf-8') as afh:\n",
    "        complete_application_text += afh.read()\n",
    "    ##endof:  with open ... afh\n",
    "##endof:  for this_application_filename in local_job_app_filenames\n",
    "\n",
    "complete_description_text += \" \"\n",
    "complete_application_text += \" \""
   ]
  },
  {
   "cell_type": "markdown",
   "id": "19bde0ba",
   "metadata": {},
   "source": [
    "### Expanding on our cleaning code from above\n",
    "\n",
    "We will iterate a bit, so as not to have to write a text normalizer for the whole world."
   ]
  },
  {
   "cell_type": "code",
   "execution_count": null,
   "id": "76074018",
   "metadata": {},
   "outputs": [],
   "source": [
    "import requests\n",
    "import html\n",
    "import re\n",
    "import string\n",
    "import shutil\n",
    "\n",
    "import math # again, for checking amount of time used.\n",
    "\n",
    "from bs4 import BeautifulSoup\n",
    "from bs4 import UnicodeDammit\n",
    "\n",
    "def clean_text_string_quickly(input_str):\n",
    "    processing_str = input_str\n",
    "    \n",
    "    \n",
    "    #1#, #2#, #3#, #4#\n",
    "    ## one line, single-spaced\n",
    "    processing_str = ' '.join(processing_str.split())\n",
    "    processing_str = processing_str.replace(\"\\t\", \" \")\n",
    "    processing_str = processing_str.replace(\"\\n\", \" \")\n",
    "    processing_str = re.sub(r\"(?P<pre>[^ ])[ ][ ]+(?P<post>($|[^ ]))\",\n",
    "                            r\"\\g<pre> \\g<post>\",\n",
    "                            processing_str,\n",
    "                            flags=re.IGNORECASE\n",
    "                           )\n",
    "    \n",
    "    \n",
    "    #2# \n",
    "    #my stuff\n",
    "    processing_str = processing_str.replace(r\"&\", \"and\")\n",
    "    processing_str = processing_str.replace(r\"U.S.\", \"U S \")\n",
    "    processing_str = processing_str.replace(r\"[ ][|]+[ ]\", \" \")\n",
    "    #outside ascii (or a control character)\n",
    "    processing_str = processing_str.replace(r\"[^\\u0020-007E]\", \" \")\n",
    "    \n",
    "    \n",
    "    ## get rid of punctuation\n",
    "    processing_str = re.sub( (r\"(?P<total_punct_match>(?P<before_punct>[^0-9 ]+)\"\n",
    "                              r\"(?P<punct_to_remove>[.,!?:\\\"'])\"\n",
    "                              r\"(?P<after_punct>[) ]|$))\"\n",
    "                             ),\n",
    "                            r\"\\g<before_punct>\\g<after_punct>\",\n",
    "                            processing_str,\n",
    "                            flags=re.IGNORECASE\n",
    "                           )\n",
    "    # parentheses\n",
    "    processing_str = processing_str.replace(r\"(\", '')\n",
    "    processing_str = processing_str.replace(r\")\", '')\n",
    "    \n",
    "    #2#\n",
    "    # dashes and other mid-word stuff\n",
    "    processing_str = re.sub( r\"[ ][|-][ ]\",\n",
    "                             \" \",\n",
    "                             processing_str)\n",
    "    #my specific stuff\n",
    "    \n",
    "    ## acronyms and initialisms\n",
    "    \n",
    "    \n",
    "    ## websites\n",
    "    \n",
    "    \n",
    "    ## lowercase\n",
    "    #processing_str = processing_str.casefold()\n",
    "    \n",
    "    ## word replacements for common (found) contractions\n",
    "    \n",
    "    ## word replacements for numbers - especially found numbers\n",
    "    \n",
    "    \n",
    "    #2#\n",
    "    ## ending spacing fix\n",
    "    processing_str = re.sub(r\"(?P<pre>[^ ])[ ][ ]+(?P<post>($|[^ ]))\",\n",
    "                            r\"\\g<pre> \\g<post>\",\n",
    "                            processing_str,\n",
    "                            flags=re.IGNORECASE\n",
    "                           )\n",
    "    \n",
    "    \n",
    "    ## Let's give it back\n",
    "    \n",
    "    return processing_str\n",
    "    \n",
    "##endof:  clean_text_string_quickly(input_str)"
   ]
  },
  {
   "cell_type": "code",
   "execution_count": null,
   "id": "9fd37de5",
   "metadata": {},
   "outputs": [],
   "source": [
    "do_look_at_description_text = True\n",
    "do_look_at_application_text = True"
   ]
  },
  {
   "cell_type": "code",
   "execution_count": null,
   "id": "236915ee",
   "metadata": {},
   "outputs": [],
   "source": [
    "if do_look_at_description_text:\n",
    "    test1 = clean_text_string_quickly(complete_description_text)\n",
    "    print(test1)"
   ]
  },
  {
   "cell_type": "code",
   "execution_count": null,
   "id": "4f9b871f",
   "metadata": {},
   "outputs": [],
   "source": [
    "if do_look_at_application_text:\n",
    "    test2 = clean_text_string_quickly(complete_application_text)\n",
    "    print(test2)"
   ]
  },
  {
   "cell_type": "code",
   "execution_count": null,
   "id": "7277c2d7",
   "metadata": {},
   "outputs": [],
   "source": [
    "# looking at contractions\n",
    "if do_look_at_description_text:\n",
    "    print(re.findall(r\"(?=\\w*'\\w*)'?\\b[0-9A-Za-z'-]+\\b'?\", test1))"
   ]
  },
  {
   "cell_type": "code",
   "execution_count": null,
   "id": "ddc4330e",
   "metadata": {},
   "outputs": [],
   "source": [
    "if do_look_at_application_text:\n",
    "    print(re.findall(r\"(?=\\w*'\\w*)'?\\b[0-9A-Za-z'-]+\\b'?\", test2))"
   ]
  },
  {
   "cell_type": "code",
   "execution_count": null,
   "id": "ff535602",
   "metadata": {},
   "outputs": [],
   "source": [
    "# looking at numbers\n",
    "if do_look_at_description_text:\n",
    "    print(re.findall(r\"[0-9]+\", test1))"
   ]
  },
  {
   "cell_type": "code",
   "execution_count": null,
   "id": "7ea05985",
   "metadata": {},
   "outputs": [],
   "source": [
    "if do_look_at_application_text:\n",
    "    print(re.findall(r\"[0-9]+\", test2))"
   ]
  },
  {
   "cell_type": "code",
   "execution_count": null,
   "id": "93b94be9",
   "metadata": {},
   "outputs": [],
   "source": [
    "# looking at possible acronyms and \n",
    "if do_look_at_description_text:\n",
    "    print(re.findall(r\"[A-Z][A-Z]+\", test1))"
   ]
  },
  {
   "cell_type": "code",
   "execution_count": null,
   "id": "63653842",
   "metadata": {},
   "outputs": [],
   "source": [
    "if do_look_at_application_text:\n",
    "    print(re.findall(r\"[A-Z][A-Z]+\", test2))"
   ]
  },
  {
   "cell_type": "code",
   "execution_count": null,
   "id": "92720212",
   "metadata": {},
   "outputs": [],
   "source": [
    "# looking at all slashes\n",
    "if do_look_at_description_text:\n",
    "    print(re.findall(r\"(\\b[\\w.]+/(\\w+/)?\\w+\\b)\", test1))\n",
    "    print()\n",
    "    print(re.findall(r\"\\b[\\w.]+/[\\w/]+\\w+\\b\", test1))"
   ]
  },
  {
   "cell_type": "code",
   "execution_count": null,
   "id": "e0d5e382",
   "metadata": {},
   "outputs": [],
   "source": [
    "if do_look_at_application_text:\n",
    "    print(re.findall(r\"(\\b[\\w.]+/(\\w+/)?\\w+\\b)\", test2))\n",
    "    print()\n",
    "    print(re.findall(r\"\\b[\\w.]+/[\\w/]+\\w+\\b\", test2))"
   ]
  },
  {
   "cell_type": "markdown",
   "id": "5673fd23",
   "metadata": {},
   "source": [
    "This one caught me with the two-hour thing. We'll see how quickly I can do the actual word-count thing. I went further back to basics, but I'm going to take a break and come back with more focus."
   ]
  },
  {
   "cell_type": "code",
   "execution_count": null,
   "id": "310ab8d0",
   "metadata": {},
   "outputs": [],
   "source": [
    "#######################\n",
    "# No need to run again\n",
    "#####\n",
    "!powershell -c (Get-Date -UFormat \"%s_%Y%m%dT%H%M%S%Z00\") -replace '[.][0-9]*_', '_'"
   ]
  },
  {
   "cell_type": "markdown",
   "id": "a0d4d517",
   "metadata": {},
   "source": [
    "With partial stuff done above, we are at\n",
    "\n",
    "`1690213885_20230724T155125-0600`"
   ]
  },
  {
   "cell_type": "markdown",
   "id": "91b98e2d",
   "metadata": {},
   "source": [
    "And my total time for now,"
   ]
  },
  {
   "cell_type": "code",
   "execution_count": null,
   "id": "559e02a4",
   "metadata": {},
   "outputs": [],
   "source": [
    "#######################\n",
    "# No need to run again\n",
    "#####\n",
    "beg_and_end_timestamps = [[1690108602, 1690113083], \\\n",
    "                          [1690197792, 1690198634], \\\n",
    "                          [1690202804, 1690206455], \\\n",
    "                          [1690207465, 1690213885]]\n",
    "\n",
    "time_total(beg_and_end_timestamps)"
   ]
  },
  {
   "cell_type": "markdown",
   "id": "55f5ce82",
   "metadata": {},
   "source": [
    "Here and now, at `1690213885_20230724T155125-0600`, we get\n",
    "\n",
    "```\n",
    "total_seconds: 15394\n",
    "total_minutes: 256.56666666666666\n",
    "256 minutes and 34 seconds\n",
    "total_hours: 4.276111111111111\n",
    "16.57 minutes more than 4 hours\n",
    "4 hours and 16 minutes and 34 seconds\n",
    "```\n",
    "\n",
    "Break. My therapist would be proud."
   ]
  },
  {
   "cell_type": "markdown",
   "id": "4e122d57",
   "metadata": {},
   "source": [
    "After this point, after I put things in `git`, I'm going to take out the normalization stuff and time. Then, we'll see where we can get."
   ]
  },
  {
   "cell_type": "code",
   "execution_count": null,
   "id": "2edc1714",
   "metadata": {},
   "outputs": [],
   "source": []
  }
 ],
 "metadata": {
  "kernelspec": {
   "display_name": "Python 3 (ipykernel)",
   "language": "python",
   "name": "python3"
  },
  "language_info": {
   "codemirror_mode": {
    "name": "ipython",
    "version": 3
   },
   "file_extension": ".py",
   "mimetype": "text/x-python",
   "name": "python",
   "nbconvert_exporter": "python",
   "pygments_lexer": "ipython3",
   "version": "3.10.12"
  }
 },
 "nbformat": 4,
 "nbformat_minor": 5
}
