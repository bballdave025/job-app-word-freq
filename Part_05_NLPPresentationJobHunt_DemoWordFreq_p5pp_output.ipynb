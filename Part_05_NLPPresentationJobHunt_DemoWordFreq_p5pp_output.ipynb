{
  "metadata": {
    "kernelspec": {
      "display_name": "Python 3 (ipykernel)",
      "language": "python",
      "name": "python3"
    },
    "language_info": {
      "codemirror_mode": {
        "name": "ipython",
        "version": 3
      },
      "file_extension": ".py",
      "mimetype": "text/x-python",
      "name": "python",
      "nbconvert_exporter": "python",
      "pygments_lexer": "ipython3",
      "version": "3.10.12"
    },
    "colab": {
      "provenance": [],
      "include_colab_link": true
    }
  },
  "nbformat_minor": 5,
  "nbformat": 4,
  "cells": [
    {
      "cell_type": "markdown",
      "metadata": {
        "id": "view-in-github",
        "colab_type": "text"
      },
      "source": [
        "<a href=\"https://colab.research.google.com/github/bballdave025/job-app-word-freq/blob/polished-5part-presented/Part_05_NLPPresentationJobHunt_DemoWordFreq_p5pp_output.ipynb\" target=\"_parent\"><img src=\"https://colab.research.google.com/assets/colab-badge.svg\" alt=\"Open In Colab\"/></a>"
      ]
    },
    {
      "id": "02d10fc3",
      "cell_type": "markdown",
      "source": [
        "# Job-Hunt NLP Demo - Part 5\n",
        "\n",
        "Which demo will also be useful in doing some quick NLP work to see how my résumé's word distribution matches that from job descriptions.\n",
        "\n",
        "There's a wonderful project out there, [MyBinder](https://mybinder.org), which allows you to interactively run a Jupyter notebook completely online. It's nice to have when you'd like to play with code and see better the outputs that come from running that code. I've had some problems with images going down, but I'm going to work to keep this one up.\n",
        "\n",
        "The link to the online, interactive notebook - the binder - is at the badge you see right here\n",
        "\n",
        "[![Binder](https://mybinder.org/badge_logo.svg)](https://mybinder.org/v2/gh/bballdave025/job-app-word-freq/polished-5part-presented?labpath=Part_04_NLPPresentationJobHunt_DemoWordFreq.ipynb)\n",
        "\n",
        "<hr/>\n",
        "\n",
        "## We are calling this version 0.1.003\n",
        "\n",
        "It's the FamilySearch CJKV jobs applied for in August 2023, but we're splitting it into smaller notebooks. Hopefully, MyBinder can load each more quickly. We'll see how things work with pickling variables between the parts.\n",
        "\n",
        "**Edit:** It worked pretty well.\n",
        "\n",
        "<hr/>\n",
        "\n",
        "## What we are doing in Part 5\n",
        "\n",
        "First of all, let's give you a MyBinder badge link which specifies the version and the part.\n",
        "\n",
        "[![Binder](https://github.com/bballdave025/job-app-word-freq/blob/polished-5part-presented/badge_logo_dwb_v_0-1-003_part_5.png?raw=1)](https://mybinder.org/v2/gh/bballdave025/job-app-word-freq/polished-5part-presented?labpath=Part_05_NLPPresentationJobHunt_DemoWordFreq.ipynb)\n",
        "\n",
        "@TODO : put a few whatchamacallits about what we're doing in Part 5.\n",
        "\n",
        "<hr/>"
      ],
      "metadata": {
        "id": "02d10fc3"
      }
    },
    {
      "id": "2dbd5a12",
      "cell_type": "markdown",
      "source": [
        "## Let's start by un-pickle-ing the things we'll need."
      ],
      "metadata": {
        "id": "2dbd5a12"
      }
    },
    {
      "id": "ae198da2",
      "cell_type": "code",
      "source": [
        "import pickle\n",
        "\n",
        "pickle_filename_4_to_5 = \"important_part_4_vars.pkl\"\n",
        "\n",
        "unpickled_array = []\n",
        "\n",
        "with open(pickle_filename_4_to_5, 'rb') as pfh:\n",
        "    unpickled_array = pickle.load(pfh)\n",
        "##endof:  with open ... as pfh # (pickle file handle)"
      ],
      "metadata": {
        "trusted": true,
        "id": "ae198da2"
      },
      "outputs": [],
      "execution_count": 1
    },
    {
      "id": "2b80b50d",
      "cell_type": "code",
      "source": [
        "local_job_desc_filenames = unpickled_array[0]\n",
        "local_job_appl_filenames = unpickled_array[1]\n",
        "description_word_counts = unpickled_array[2]\n",
        "application_word_counts = unpickled_array[3]\n",
        "list_of_display_table_desc = unpickled_array[4]"
      ],
      "metadata": {
        "trusted": true,
        "id": "2b80b50d"
      },
      "outputs": [],
      "execution_count": 2
    },
    {
      "id": "b41410d4",
      "cell_type": "markdown",
      "source": [
        "## Details for All 25 Top Words (Both documents) and Metrics"
      ],
      "metadata": {
        "id": "b41410d4"
      }
    },
    {
      "id": "5b865afb",
      "cell_type": "markdown",
      "source": [
        "### First, a review of where we've been @TODO"
      ],
      "metadata": {
        "id": "5b865afb"
      }
    },
    {
      "id": "22ac3a13",
      "cell_type": "markdown",
      "source": [
        "@TODO Review what we've done."
      ],
      "metadata": {
        "id": "22ac3a13"
      }
    },
    {
      "id": "dff19c1b",
      "cell_type": "markdown",
      "source": [
        "Good things are what we've done."
      ],
      "metadata": {
        "id": "dff19c1b"
      }
    },
    {
      "id": "2e373b5d",
      "cell_type": "markdown",
      "source": [
        "From our previous stuff, there are some nice functions that we're just copying and pasting, because it seems transferring functions via pickle file is a nightmare. A lot of them are shorter, without the `print_details` types of parameters. We've already seen these, so feel free to <kbd>Shift</kbd> + <kbd>Enter</kbd> your way through the functions."
      ],
      "metadata": {
        "id": "2e373b5d"
      }
    },
    {
      "id": "73bafdab",
      "cell_type": "markdown",
      "source": [
        "## Previous functions"
      ],
      "metadata": {
        "id": "73bafdab"
      }
    },
    {
      "id": "4d2ec6c2",
      "cell_type": "code",
      "source": [
        "def get_description_word_at_rank(this_rank = 1,\n",
        "                                 this_desc_fname_idx=0\n",
        "                                ):\n",
        "    this_idx = this_rank # the header is index 0\n",
        "    this_table_to_use = \\\n",
        "      list_of_display_table_desc[this_desc_fname_idx]\n",
        "    this_word = this_table_to_use[this_rank][0]\n",
        "\n",
        "    return this_word\n",
        "##endof:  get_description_word_at_rank(<params>)"
      ],
      "metadata": {
        "trusted": true,
        "id": "4d2ec6c2"
      },
      "outputs": [],
      "execution_count": 3
    },
    {
      "id": "61bd2dc5",
      "cell_type": "code",
      "source": [
        "def get_application_word_at_rank(this_rank = 1):\n",
        "    this_idx = this_rank # the header is index 0\n",
        "    this_appl_fname_idx=0\n",
        "    this_table_to_use = \\\n",
        "      list_of_display_table_appl[this_appl_fname_idx]\n",
        "    this_word = this_table_to_use[this_rank][0]\n",
        "\n",
        "    return this_word\n",
        "##endof:  get_description_word_at_rank(<params>)"
      ],
      "metadata": {
        "trusted": true,
        "id": "61bd2dc5"
      },
      "outputs": [],
      "execution_count": 4
    },
    {
      "id": "cdd33e0f",
      "cell_type": "code",
      "source": [
        "def find_word_in_both_display_lists(word_to_find,\n",
        "                                    display_list_1_description,\n",
        "                                    display_list_2_application,\n",
        "                                    name_of_display_list_1=None,\n",
        "                                    name_of_display_list_2=None,\n",
        "                                   ):\n",
        "    index_count_1 = 0 # skip header\n",
        "    index_for_found_in_1 = 0\n",
        "\n",
        "    word_found_in_1 = False\n",
        "    for my_entry_1 in display_list_1_description:\n",
        "        index_count_1 += 1\n",
        "        if my_entry_1 == word_to_find:\n",
        "            word_found_in_1 = True\n",
        "            index_for_found_in_1 = index_count_1\n",
        "            break\n",
        "        ##endof:  if my_entry_1 == word_to_find\n",
        "    ##endof:  for my_entry_1 in display_list_1\n",
        "\n",
        "    index_count_2 = 0 # skip header\n",
        "    index_for_found_in_2 = -1\n",
        "    word_found_in_2 = False\n",
        "    for my_entry_2 in display_list_2_application:\n",
        "        index_count_2 += 1\n",
        "        if my_entry_2 == word_to_find:\n",
        "            word_found_in_2 = True\n",
        "            index_for_found_in_2 = index_count_2\n",
        "            break\n",
        "        ##endof:  if my_entry_2 == word_to_find\n",
        "    ##endof:  for my_entry_1 in display_list_1\n",
        "\n",
        "    to_return_found_1 = None\n",
        "\n",
        "    if word_found_in_1:\n",
        "        to_return_found_1 = index_for_found_in_1 # - 1\n",
        "    ##endof:  if word_found_in_1\n",
        "\n",
        "    to_return_found_2 = None\n",
        "\n",
        "    if word_found_in_2:\n",
        "        to_return_found_2 = index_for_found_in_2 # - 1\n",
        "    ##endof:  if word_found_in_2\n",
        "\n",
        "    return to_return_found_1, to_return_found_2\n",
        "\n",
        "##endof:  find_word_in_both_lists"
      ],
      "metadata": {
        "trusted": true,
        "id": "cdd33e0f"
      },
      "outputs": [],
      "execution_count": 5
    },
    {
      "id": "48e7a83f",
      "cell_type": "code",
      "source": [
        "import numpy as np\n",
        "import matplotlib.pyplot as plt\n",
        "\n",
        "## Next line only for Jupyter notebook.\n",
        "%matplotlib inline\n",
        "\n",
        "def get_freq_histo_specific(word_count_ordered_dict_1,\n",
        "                            rank_index_1 = 1,\n",
        "                            n_surrounding_words = 3,\n",
        "                            do_show_frac_not_count=True,\n",
        "                            ylim_bottom_val=None,\n",
        "                            ylim_top_val=None,\n",
        "                            ax1=None,\n",
        "                            do_show_word_and_count_lists=False,\n",
        "                           ):\n",
        "    '''\n",
        "    @return  an axis from matplotlab (with the object - histogram - in it)\n",
        "    '''\n",
        "\n",
        "    do_debug_histo_center = True\n",
        "\n",
        "    if ax1 is None:\n",
        "        fig = plt.figure(figsize=(10, 3))\n",
        "        ax1 = fig.add_subplot(111)\n",
        "    ##endof:  if ax1 is None\n",
        "\n",
        "    counts_pre = None\n",
        "    fractions_pre = None\n",
        "\n",
        "    if do_show_frac_not_count:\n",
        "        frac_wd_cnt_list_of_tuples = \\\n",
        "          [ ( k, (v / len(word_count_ordered_dict_1)) )\n",
        "                  for k, v in word_count_ordered_dict_1.items() ]\n",
        "        fractions_pre = [ this_item[1]\n",
        "                           for this_item in frac_wd_cnt_list_of_tuples ]\n",
        "    else:\n",
        "        counts_pre = list(word_count_ordered_dict_1.values())\n",
        "    ##endof:  if/else do_show_frac_not_count\n",
        "\n",
        "    words_pre  = list(word_count_ordered_dict_1.keys())\n",
        "\n",
        "    if do_debug_histo_center:\n",
        "        print(f\"words_pre: {words_pre}\")\n",
        "    ##endof:  if do_debug_histo_center\n",
        "\n",
        "    counts = None\n",
        "    fractions = None\n",
        "\n",
        "    # Pad the list with zero-count and empty-set characters\n",
        "    len_lists = 2 * n_surrounding_words + 1\n",
        "\n",
        "    if do_show_frac_not_count:\n",
        "        fractions = [0] * len_lists\n",
        "    else:\n",
        "        counts = [0] * len_lists\n",
        "    ##endof:  if/else do_show_frac_not_count\n",
        "\n",
        "    words  = [\"\\u2205\"] * len_lists # empty-set glyph codepoint\n",
        "\n",
        "    if do_debug_histo_center:\n",
        "        print(f\"words: {words}\")\n",
        "    ##endof:  if do_debug_histo_center\n",
        "\n",
        "    #  Fill anything with a valid index with the corresponding\n",
        "    #+ word/count\n",
        "\n",
        "    current_output_index = -1\n",
        "\n",
        "    min_i = rank_index_1 - n_surrounding_words - 1\n",
        "    max_i = rank_index_1 + n_surrounding_words\n",
        "\n",
        "    for i in range(min_i, max_i):\n",
        "        current_output_index += 1\n",
        "\n",
        "        if do_debug_histo_center:\n",
        "            print(f\"i: {i}\")\n",
        "            print(f\"current_output_index: {current_output_index}\")\n",
        "        ##endof: if do_debug_histo_center\n",
        "\n",
        "        if i < 0:\n",
        "            pass\n",
        "        else:\n",
        "            if do_show_frac_not_count:\n",
        "                fractions[current_output_index] = fractions_pre[i]\n",
        "            else:\n",
        "                counts[current_output_index] = counts_pre[i]\n",
        "            ##endof:  if/else do_show_frac_not_count\n",
        "\n",
        "            words[current_output_index] = words_pre[i]\n",
        "\n",
        "        ##endof:  if/else i < 1\n",
        "\n",
        "        if do_debug_histo_center:\n",
        "            print(f\"words: {words}\")\n",
        "            print(f\"counts: {counts}\")\n",
        "            print(f\"fractions: {fractions}\")\n",
        "        ##endof:  if do_debug_histo_center\n",
        "\n",
        "    ##endof:  for i in range\n",
        "\n",
        "    ## the text version of the info\n",
        "    if do_show_word_and_count_lists:\n",
        "        if do_show_frac_not_count:\n",
        "            print(f\"fractions: {fractions}\")\n",
        "        else:\n",
        "            print(f\"counts: {counts}\")\n",
        "        ##endof:  if/else do_show_frac_not_count\n",
        "\n",
        "        print(f\"words:  {words}\")\n",
        "    ##endof:  if do_show_word_and_count_lists\n",
        "\n",
        "    x_words_coords = np.arange(len(words))\n",
        "\n",
        "    if do_show_frac_not_count:\n",
        "        ax1.bar(x_words_coords, fractions, align='center')\n",
        "    else:\n",
        "        ax1.bar(x_words_coords, counts, align='center')\n",
        "    ##endof:  if/else do_show_frac_not_count\n",
        "\n",
        "    ax1.set_xticks(x_words_coords)\n",
        "    ax1.set_xticklabels(words, rotation=45, ha='right')\n",
        "\n",
        "    ax1.set_ylim(ylim_bottom_val, ylim_top_val)\n",
        "\n",
        "##endof:  get_freq_histo_specific"
      ],
      "metadata": {
        "trusted": true,
        "id": "48e7a83f"
      },
      "outputs": [],
      "execution_count": 17
    },
    {
      "cell_type": "code",
      "source": [
        "from scipy.special import polygamma\n",
        "  #  I needed to pip install scipy. I'll update\n",
        "  #+ the instructions and the environment.\n",
        "\n",
        "def max_probability_for_graph(n_distinct_words,\n",
        "                              this_rank=1,\n",
        "                              do_show_intermediates=False):\n",
        "    beta = 2.7\n",
        "\n",
        "    approx_sum = (\n",
        "          polygamma(0, beta + n_distinct_words + 1)\n",
        "        - polygamma(0, beta)\n",
        "    )\n",
        "\n",
        "    if do_show_intermediates:\n",
        "        print()\n",
        "        print(f\"To check, approx_sum = {approx_sum}\")\n",
        "    ##endof:  if do_show_intermediates\n",
        "\n",
        "    kappa = approx_sum / n_distinct_words\n",
        "\n",
        "    if do_show_intermediates:\n",
        "        print()\n",
        "        print(f\"To check, kappa = {kappa}\")\n",
        "        print()\n",
        "    ##endof:  if do_show_intermediates\n",
        "\n",
        "    calculated_proportion = (   ( 1 / (kappa * n_distinct_words) )\n",
        "                              * ( 1 / (this_rank + beta) )\n",
        "                           )\n",
        "\n",
        "    return calculated_proportion\n",
        "\n",
        "##endof:  max_probability_for_graph(n_distinct_words)\n",
        "\n",
        "\n",
        "def kappa_by_partial_sum_terms(n_distinct_words,\n",
        "                               do_show_intermediates=False):\n",
        "    '''\n",
        "    To check my implementation of Euler-Maclaurin\n",
        "    '''\n",
        "\n",
        "    beta = 2.7\n",
        "    term_by_term_sum = 0\n",
        "\n",
        "    for r in range(n_distinct_words):\n",
        "        this_term = 1 / ( r + beta)\n",
        "        term_by_term_sum += this_term\n",
        "    ##endof:  for r in range(n_distinct_words)\n",
        "\n",
        "    if do_show_intermediates:\n",
        "        print()\n",
        "        print(f\"To check, term_by_term_sum = {term_by_term_sum}\")\n",
        "    ##endof:  if do_show_intermediates\n",
        "\n",
        "    kappa = term_by_term_sum / n_distinct_words\n",
        "\n",
        "    if do_show_intermediates:\n",
        "        print()\n",
        "        print(f\"To check, kappa = {kappa}\")\n",
        "        print()\n",
        "    ##endof:  if do_show_intermediates\n",
        "\n",
        "    return kappa\n",
        "\n",
        "##endof:  kappa_by_partial_sum_terms(n_distinct_words)"
      ],
      "metadata": {
        "id": "wWeqxGbCkbfy"
      },
      "id": "wWeqxGbCkbfy",
      "execution_count": 7,
      "outputs": []
    },
    {
      "id": "97ab4fd2",
      "cell_type": "markdown",
      "source": [
        "## End of Functions"
      ],
      "metadata": {
        "id": "97ab4fd2"
      }
    },
    {
      "id": "bab378cb",
      "cell_type": "markdown",
      "source": [
        "### Stop the <kbd>Shift</kbd> + <kbd>Enter</kbd> Madness"
      ],
      "metadata": {
        "id": "bab378cb"
      }
    },
    {
      "id": "a2989845",
      "cell_type": "markdown",
      "source": [
        "# STOP"
      ],
      "metadata": {
        "id": "a2989845"
      }
    },
    {
      "id": "b1270e8d",
      "cell_type": "markdown",
      "source": [
        "## The functions are Loaded"
      ],
      "metadata": {
        "id": "b1270e8d"
      }
    },
    {
      "id": "8658e42e",
      "cell_type": "markdown",
      "source": [
        "## We are at a place you probably want to see"
      ],
      "metadata": {
        "id": "8658e42e"
      }
    },
    {
      "id": "8afb5dc0",
      "cell_type": "markdown",
      "source": [
        "## Okay, I hope you've stopped."
      ],
      "metadata": {
        "id": "8afb5dc0"
      }
    },
    {
      "id": "2ecd7fc8",
      "cell_type": "markdown",
      "source": [
        "## Now, we can see the good stuff"
      ],
      "metadata": {
        "id": "2ecd7fc8"
      }
    },
    {
      "id": "0aca24d8",
      "cell_type": "markdown",
      "source": [
        "<hr/>\n",
        "<hr/>\n",
        "<hr/>\n",
        "\n",
        "\n",
        "# This is where the good stuff will go\n",
        "\n",
        "And you know this stuff will be good.\n",
        "\n",
        "<hr/>\n",
        "<hr/>\n",
        "<hr/>"
      ],
      "metadata": {
        "id": "0aca24d8"
      }
    },
    {
      "cell_type": "markdown",
      "source": [
        "## Just Need This Once"
      ],
      "metadata": {
        "id": "qM7e54Xaj8Rb"
      },
      "id": "qM7e54Xaj8Rb"
    },
    {
      "cell_type": "code",
      "source": [
        "description_idx_to_show = 0 # For this version, can be 0,1,2,3\n",
        "desc_fname_idx_to_show = description_idx_to_show\n",
        "\n",
        "n_desc_words_array = [0] * len(description_word_counts)\n",
        "\n",
        "for i in range(0, len(description_word_counts)):\n",
        "    n_desc_words_array[i] = \\\n",
        "      len(description_word_counts[i])\n",
        "##endof:  for i in range(len)"
      ],
      "metadata": {
        "id": "EwhyZx4viNKa"
      },
      "id": "EwhyZx4viNKa",
      "execution_count": 9,
      "outputs": []
    },
    {
      "cell_type": "code",
      "source": [
        "do_change_ymax = False\n",
        "\n",
        "error_bars_frac = 0.1\n",
        "\n",
        "theoretical_max_values = [0] * len(description_word_counts)\n",
        "\n",
        "for desc_index in range(len(description_word_counts)):\n",
        "    theoretical_max_values[desc_index] = \\\n",
        "      max_probability_for_graph(\n",
        "        n_distinct_words=\\\n",
        "          n_desc_words_array[desc_index]\n",
        "    )\n",
        "##endof:  for desc_index in range(len(description_word_counts))\n",
        "\n",
        "init_probability = \\\n",
        "        theoretical_max_values[desc_fname_idx_to_show]\n",
        "\n",
        "if do_change_ymax:\n",
        "    ##!! HERE IS WHERE TO CHANGE THE VALUE, IF NEEDED !!##\n",
        "    init_probability = 0.05\n",
        "    ##!! THERE WAS WHERE TO CHANGE THE VALUE, IF WANTED !!##\n",
        "##endof:  if do_change_ymax\n",
        "\n",
        "max_graph_proportion = init_probability * (1 + error_bars_frac)\n",
        "\n",
        "print(f\"max_graph_proportion: {max_graph_proportion}\")"
      ],
      "metadata": {
        "colab": {
          "base_uri": "https://localhost:8080/"
        },
        "id": "fUAy4PyciNZx",
        "outputId": "c56cb7d2-fd36-449e-81fa-35155b3687b3"
      },
      "id": "fUAy4PyciNZx",
      "execution_count": 10,
      "outputs": [
        {
          "output_type": "stream",
          "name": "stdout",
          "text": [
            "max_graph_proportion: 0.05949705688145124\n"
          ]
        }
      ]
    },
    {
      "cell_type": "markdown",
      "source": [
        "## Now, Until I Automate (If I Automate), We'll need to go one-at-a-time"
      ],
      "metadata": {
        "id": "ltbgeBEgldxL"
      },
      "id": "ltbgeBEgldxL"
    },
    {
      "cell_type": "markdown",
      "source": [
        "### 1st Most Frequent Word in Job Description"
      ],
      "metadata": {
        "id": "n4n0ZtqnmW5o"
      },
      "id": "n4n0ZtqnmW5o"
    },
    {
      "cell_type": "code",
      "source": [
        "this_desc_idx = 0 # which job description are we using?\n",
        "\n",
        "top_word_rank_in_desc = 1\n",
        "\n",
        "this_corresponding_word = \\\n",
        "    get_description_word_at_rank(top_word_rank_in_desc)\n",
        "\n",
        "print(f\"this_corresponding_word: {this_corresponding_word}\")\n",
        "\n",
        "rank_desc, _ = find_word_in_both_display_lists(\n",
        "                this_corresponding_word,\n",
        "                description_word_counts[desc_fname_idx_to_show],\n",
        "                application_word_counts[0],\n",
        "                   #  we only have one table -\n",
        "                   #+ it's at any legal index;\n",
        "                   #+ let's choose 0\n",
        "                name_of_display_list_1 = \\\n",
        "                    f\"description_word_counts[{this_desc_idx}]\",\n",
        "                name_of_display_list_2 = \"application_word_counts[0]\"\n",
        ")\n",
        "\n",
        "fig_filename_desc = \"\"\n",
        "\n",
        "if rank_desc is None:\n",
        "    import matplotlib.image as mpimg\n",
        "    fig_filename_desc = \"description_word_not_found.png\"\n",
        "    img = mpimg.imread(fig_filename_desc)\n",
        "    imgplot = plt.imshow(img)\n",
        "##endof:  if rank_desc\n",
        "else:\n",
        "    get_freq_histo_specific(\n",
        "            description_word_counts[desc_fname_idx_to_show],\n",
        "            rank_index_1=this_desc_idx,\n",
        "            n_surrounding_words=3,\n",
        "            do_show_word_and_count_lists=False,\n",
        "            ylim_top_val=max_graph_proportion\n",
        "    )\n",
        "\n",
        "    fig_filename_desc = (\n",
        "            f\"description_word_rank_{this_desc_idx}_\"\n",
        "            f\"desc_{desc_fname_idx_to_show}.png\"\n",
        "    )\n",
        "\n",
        "    print(fig_filename_desc)\n",
        "\n",
        "    title_for_desc = (f\"Word frequency rank ({rank_desc}) and surrounding context in \"\n",
        "                      f\"job description for the word, {this_corresponding_word}\"\n",
        "                 )\n",
        "    plt.title(title_for_desc)\n",
        "\n",
        "    plt.savefig(fig_filename_desc,\n",
        "                bbox_inches='tight')\n",
        "\n",
        "    plt.show()\n",
        "##endof:  if/else rank_desc"
      ],
      "metadata": {
        "colab": {
          "base_uri": "https://localhost:8080/",
          "height": 389
        },
        "id": "7FQ1oTYciNc4",
        "outputId": "a2c6c8cc-c2a5-4558-ef64-7b53d2f1f1e7"
      },
      "id": "7FQ1oTYciNc4",
      "execution_count": 11,
      "outputs": [
        {
          "output_type": "stream",
          "name": "stdout",
          "text": [
            "this_corresponding_word: software\n",
            "description_word_rank_1_desc_0.png\n"
          ]
        },
        {
          "output_type": "display_data",
          "data": {
            "text/plain": [
              "<Figure size 1000x300 with 1 Axes>"
            ],
            "image/png": "[encoded data removed]"
          },
          "metadata": {}
        }
      ]
    },
    {
      "cell_type": "code",
      "source": [
        "_, rank_appl = find_word_in_both_display_lists(\n",
        "        this_corresponding_word,\n",
        "        description_word_counts[desc_fname_idx_to_show],\n",
        "        application_word_counts[0],\n",
        "           #  we only have one table -\n",
        "           #+ it's at any legal index;\n",
        "           #+ let's choose 0\n",
        "        name_of_display_list_1 = f\"description_word_counts[{this_desc_idx}]\",\n",
        "        name_of_display_list_2 = \"application_word_counts[0]\"\n",
        ")\n",
        "\n",
        "fig_filename_appl = \"\"\n",
        "\n",
        "if rank_appl is None:\n",
        "    import matplotlib.image as mpimg\n",
        "    fig_filename_appl = \"application_word_not_found.png\"\n",
        "    img = mpimg.imread(fig_filename_appl)\n",
        "    imgplot = plt.imshow(img)\n",
        "##endof:  if rank_desc\n",
        "else:\n",
        "    corresponding_index = rank_appl\n",
        "\n",
        "    get_freq_histo_specific(application_word_counts[0],\n",
        "                            rank_index_1=corresponding_index,\n",
        "                            n_surrounding_words=3,\n",
        "                            do_show_word_and_count_lists=False,\n",
        "                            ylim_top_val=max_graph_proportion\n",
        "    )\n",
        "\n",
        "    fig_filename_appl = (f\"application_word_rank_{corresponding_index}_\"\n",
        "                         f\"desc_{desc_fname_idx_to_show}.png\"\n",
        "                        )\n",
        "\n",
        "    title_for_appl = (f\"Word frequency rank ({rank_appl}) and surrounding context in \"\n",
        "                      f\"job application for the word, {this_corresponding_word}\"\n",
        "                     )\n",
        "    plt.title(title_for_appl)\n",
        "\n",
        "    plt.savefig(fig_filename_appl,\n",
        "            bbox_inches='tight')\n",
        "\n",
        "    plt.show()\n",
        "##endof:  ##endof:  if/else rank_desc"
      ],
      "metadata": {
        "colab": {
          "base_uri": "https://localhost:8080/",
          "height": 373
        },
        "id": "fP3_0OBLiNfh",
        "outputId": "56137a28-b7fc-42f2-fd09-eda0d715594d"
      },
      "id": "fP3_0OBLiNfh",
      "execution_count": 12,
      "outputs": [
        {
          "output_type": "display_data",
          "data": {
            "text/plain": [
              "<Figure size 1000x300 with 1 Axes>"
            ],
            "image/png": "[encoded data removed]"
          },
          "metadata": {}
        }
      ]
    },
    {
      "cell_type": "code",
      "source": [
        "print(\"  img src values for the two images:\")\n",
        "print(f'\"{fig_filename_desc}\"')\n",
        "print(f'\"{fig_filename_appl}\"')\n",
        "\n",
        "print()\n",
        "print(\"  img alt values for the two images:\")\n",
        "alt_text_1 = (f'\"Histogram for the word, {this_corresponding_word}, in '\n",
        "               'the job description text\"'\n",
        "             )\n",
        "alt_text_2 = (f'\"Histogram for the word, {this_corresponding_word}, in '\n",
        "               'the job application text\"'\n",
        "             )\n",
        "print(alt_text_1)\n",
        "print(alt_text_2)"
      ],
      "metadata": {
        "colab": {
          "base_uri": "https://localhost:8080/"
        },
        "id": "qmCMIcnQiNiI",
        "outputId": "f82fe7b3-0e74-494f-c108-cea91d22fcf7"
      },
      "id": "qmCMIcnQiNiI",
      "execution_count": 13,
      "outputs": [
        {
          "output_type": "stream",
          "name": "stdout",
          "text": [
            "  img src values for the two images:\n",
            "\"description_word_rank_1_desc_0.png\"\n",
            "\"application_word_rank_2_desc_0.png\"\n",
            "\n",
            "  img alt values for the two images:\n",
            "\"Histogram for the word, software, in the job description text\"\n",
            "\"Histogram for the word, software, in the job application text\"\n"
          ]
        }
      ]
    },
    {
      "cell_type": "markdown",
      "source": [
        "### Change the img src values and img alt values, then see the histograms together"
      ],
      "metadata": {
        "id": "yFOIJ_FA_crn"
      },
      "id": "yFOIJ_FA_crn"
    },
    {
      "cell_type": "markdown",
      "source": [
        "You might need to double-click on the image to get the html source. You also might need to click on the image (or image-not-found icon) just to make things reload.\n",
        "\n",
        "Actually, I've found that a good way to make things re-render is to put `./` in front of the first `src=\"`, evaluate the cell, and then remove the `./`.\n",
        "\n",
        "Or, for <strike>an internet-type link (hypertext transfer protocol)</strike>\n",
        "a full-path link, change one\n",
        "of the `/` to `//`, re-evaluate the cell, then change it back and re-evaluate.\n",
        "\n",
        "<br/>\n",
        "<div>\n",
        "  <img src=\"https://github.com/bballdave025/job-app-word-freq/blob/polished-5part-presented/description_word_rank_1_desc_0.png?raw=1\"\n",
        "       alt=\"Histogram for the word, software, in the job description text\"\n",
        "       width=\"auto\">\n",
        "</div>\n",
        "<br/>\n",
        "\n",
        "<br/>\n",
        "<div>\n",
        "  <img src=\"https://github.com/bballdave025/job-app-word-freq/blob/polished-5part-presented/application_word_rank_2_desc_0.png?raw=1\"\n",
        "       alt=\"Histogram for the word, software, in the job application text\"\n",
        "       width=\"auto\">\n",
        "</div>\n",
        "<br/>"
      ],
      "metadata": {
        "id": "3V26NgbIogI2"
      },
      "id": "3V26NgbIogI2"
    },
    {
      "cell_type": "markdown",
      "source": [
        "Here's where I should take a screenshot and save it. Maybe put some nice dotted\n",
        "lines connecting the 'software' bars. Then, put it in another text box. Also,\n",
        "get it ready for the portfolio page."
      ],
      "metadata": {
        "id": "iw33WdYAqZeU"
      },
      "id": "iw33WdYAqZeU"
    },
    {
      "cell_type": "markdown",
      "source": [],
      "metadata": {
        "id": "4fqQo61mqyUp"
      },
      "id": "4fqQo61mqyUp"
    },
    {
      "cell_type": "markdown",
      "source": [
        "### 2nd Most Frequent Word in Job Description"
      ],
      "metadata": {
        "id": "WLBFBeI5qeR9"
      },
      "id": "WLBFBeI5qeR9"
    },
    {
      "cell_type": "code",
      "source": [
        "this_desc_idx = 0 # which job description are we using?\n",
        "\n",
        "###############################################\n",
        "word_rank_in_desc = 2\n",
        "###############################################\n",
        "\n",
        "this_corresponding_word = \\\n",
        "    get_description_word_at_rank(word_rank_in_desc)\n",
        "\n",
        "print(f\"this_corresponding_word: {this_corresponding_word}\")\n",
        "\n",
        "rank_desc, _ = find_word_in_both_display_lists(\n",
        "                this_corresponding_word,\n",
        "                description_word_counts[desc_fname_idx_to_show],\n",
        "                application_word_counts[0],\n",
        "                   #  we only have one table -\n",
        "                   #+ it's at any legal index;\n",
        "                   #+ let's choose 0\n",
        "                name_of_display_list_1 = \\\n",
        "                    f\"description_word_counts[{this_desc_idx}]\",\n",
        "                name_of_display_list_2 = \"application_word_counts[0]\"\n",
        ")\n",
        "\n",
        "fig_filename_desc = \"\"\n",
        "\n",
        "if rank_desc is None:\n",
        "    import matplotlib.image as mpimg\n",
        "    fig_filename_desc = \"description_word_not_found.png\"\n",
        "    img = mpimg.imread(fig_filename_desc)\n",
        "    imgplot = plt.imshow(img)\n",
        "##endof:  if rank_desc\n",
        "else:\n",
        "    get_freq_histo_specific(\n",
        "            description_word_counts[desc_fname_idx_to_show],\n",
        "            rank_index_1=this_desc_idx,\n",
        "            n_surrounding_words=3,\n",
        "            do_show_word_and_count_lists=False,\n",
        "            ylim_top_val=max_graph_proportion\n",
        "    )\n",
        "\n",
        "    fig_filename_desc = (\n",
        "            f\"description_word_rank_{this_desc_idx}_\"\n",
        "            f\"desc_{desc_fname_idx_to_show}.png\"\n",
        "    )\n",
        "\n",
        "    print(fig_filename_desc)\n",
        "\n",
        "    title_for_desc = (f\"Word frequency rank ({rank_desc}) and surrounding context in \"\n",
        "                      f\"job description for the word, {this_corresponding_word}\"\n",
        "                 )\n",
        "    plt.title(title_for_desc)\n",
        "\n",
        "    plt.savefig(fig_filename_desc,\n",
        "                bbox_inches='tight')\n",
        "\n",
        "    plt.show()\n",
        "##endof:  if/else rank_desc"
      ],
      "metadata": {
        "colab": {
          "base_uri": "https://localhost:8080/",
          "height": 1000
        },
        "id": "_li-w36xqc6M",
        "outputId": "1cc7e640-e723-470b-87a1-ff31a033e361"
      },
      "id": "_li-w36xqc6M",
      "execution_count": 18,
      "outputs": [
        {
          "output_type": "stream",
          "name": "stdout",
          "text": [
            "this_corresponding_word: work\n",
            "words_pre: ['software', 'work', 'team', 'church', 'technical', 'engineering', 'experience', 'development', 'professional', 'role', 'product', 'programming', '+', 'seek', 'teams', 'job', 'industry', 'practices', 'position', 'areas', 'design', 'support', 'technology', 'provide', 'gospel', 'develop', 'processes', 'technologies', 'computer', 'skills', 'ability', 'dev', 'engineer', 'remote', 'united', 'states', 'needs', 'build', 'diverse', 'global', 'full-stack', 'requires', 'knowledge', 'designing', 'defining', 'implementing', 'products', 'systems', 'system', 'leader', 'project', 'planning', 'activities', 'peer', 'reviews', 'leadership', 'architecture', 'responsibilities', 'lead', 'vertical', 'multiple', 'architectures', 'best', 'participate', 'members', 'time', 'requirements', 'user', 'code', 'new', 'qualifications', 'degree', 'years', 'methodologies', 'releases', 'enterprise', 'demonstrated', 'abilities', 'create', 'direct', 'overall', 'principles', 'logic', 'continuous', 'languages', 'perform', 'learn', 'using', 'employees', 'familysearch', 'us-based', 'optional', 'lehi', 'ut', 'meet', 'represent', 'perspectives', 'broad', 'life', 'experiences', 'backgrounds', 'membership', 'mind', 'encourage', 'qualified', 'applicants', 'apply', 'description', 'master', 'vast', 'organizational', 'policies', 'good', 'judgment', 'selecting', 'methods', 'techniques', 'developing', 'testing', 'purchasing', 'analyzing', 'scope', 'recommends', 'purchases', 'high', 'value', 'projects', 'fully', 'participates', 'influences', 'numerous', 'leads', 'break-', 'tasks', 'etc', 'responsible', 'implementation', 'quality', '-going', \"organization'\", 'applications', 'individual', 'works', 'divine', 'guidance', 'furthers', 'mission', 'reflects', 'eternal', 'impact', 'contribute', 'team-wide', 'strategy', 'well', 'horizontal', 'initiatives', 'directing', 'developers', 'establishment', 'standards', 'understand', 'users', 'evangelize', 'evaluating', 'member', 'meetings', 'sessions', 'setting', 'goals', 'maintain', 'relationships', 'promote', 'collaboration', 'assist', 'sourcing', 'recruiting', 'world-class', 'estimate', 'deliver', 'features', 'defined', 'management', 'coding', 'driven', 'partnering', 'professionals', 'source', 'unit', 'tests', 'according', 'designs', 'performance', 'maintainability', 'improvements', 'self-directed', 'classroom', 'instruction', 'adopted', 'organization', 'formal', 'training', 'mentoring', 'pair', 'less-experienced', 'engineers', 'required', 'education', \"bachelor'\", 'science', 'related', 'field', 'recognized', 'progressive', 'relevant', 'specialized', 'platform', 'prior', 'developer', 'leading', 'first', 'subsequent', 'several', 'successful', 'least', 'one', 'must', 'large-scale', 'application', 'excellent', 'communication', 'including', 'communicate', 'toward', 'accomplishing', 'vision', 'mentor', 'train', 'peers', 'strong', 'understanding', 'agile', 'algorithms', 'solutions', 'modules', 'within', 'significant', 'major', 'primary', '-tier', '.', 'interface', 'domain', 'database', 'layers', 'expert-level', 'troubleshooting', 'web', 'interfaces', '/', 'methodology', 'able', 'architect', 'entire', 'subsystems', 'familiarity', 'cloud', 'based', 'platforms', 'services', 'integration', 'delivery', 'extensive', 'applicable', 'proven', 'aptitude', 'willingness', 'operates', 'office', 'environment', 'successfully', 'essential', 'functions', 'may', 'physical', 'need', 'met', 'sitting', 'long', 'periods', 'monitors', 'equipment', 'preferred', \"master'\", 'us', 'find', 'joy', 'satisfaction', 'unique', 'talents', 'lord', 'develops', 'app', 'sends', 'message', 'worldwide', 'facilities', 'manager', 'maintains', 'buildings', 'giving', 'places', 'worship', 'teach', 'receive', 'sacred', 'ordinances', 'innovative', 'ways', 'share', 'jesus', 'christ', 'world', 'literally', 'working', 'kingdom']\n",
            "words: ['∅', '∅', '∅', '∅', '∅', '∅', '∅']\n",
            "i: -4\n",
            "current_output_index: 0\n",
            "words: ['∅', '∅', '∅', '∅', '∅', '∅', '∅']\n",
            "counts: None\n",
            "fractions: [0, 0, 0, 0, 0, 0, 0]\n",
            "i: -3\n",
            "current_output_index: 1\n",
            "words: ['∅', '∅', '∅', '∅', '∅', '∅', '∅']\n",
            "counts: None\n",
            "fractions: [0, 0, 0, 0, 0, 0, 0]\n",
            "i: -2\n",
            "current_output_index: 2\n",
            "words: ['∅', '∅', '∅', '∅', '∅', '∅', '∅']\n",
            "counts: None\n",
            "fractions: [0, 0, 0, 0, 0, 0, 0]\n",
            "i: -1\n",
            "current_output_index: 3\n",
            "words: ['∅', '∅', '∅', '∅', '∅', '∅', '∅']\n",
            "counts: None\n",
            "fractions: [0, 0, 0, 0, 0, 0, 0]\n",
            "i: 0\n",
            "current_output_index: 4\n",
            "words: ['∅', '∅', '∅', '∅', 'software', '∅', '∅']\n",
            "counts: None\n",
            "fractions: [0, 0, 0, 0, 0.03076923076923077, 0, 0]\n",
            "i: 1\n",
            "current_output_index: 5\n",
            "words: ['∅', '∅', '∅', '∅', 'software', 'work', '∅']\n",
            "counts: None\n",
            "fractions: [0, 0, 0, 0, 0.03076923076923077, 0.024615384615384615, 0]\n",
            "i: 2\n",
            "current_output_index: 6\n",
            "words: ['∅', '∅', '∅', '∅', 'software', 'work', 'team']\n",
            "counts: None\n",
            "fractions: [0, 0, 0, 0, 0.03076923076923077, 0.024615384615384615, 0.021538461538461538]\n",
            "description_word_rank_0_desc_0.png\n"
          ]
        },
        {
          "output_type": "display_data",
          "data": {
            "text/plain": [
              "<Figure size 1000x300 with 1 Axes>"
            ],
            "image/png": "[encoded data removed]"
          },
          "metadata": {}
        }
      ]
    },
    {
      "cell_type": "code",
      "source": [
        "_, rank_appl = find_word_in_both_display_lists(\n",
        "        this_corresponding_word,\n",
        "        description_word_counts[desc_fname_idx_to_show],\n",
        "        application_word_counts[0],\n",
        "           #  we only have one table -\n",
        "           #+ it's at any legal index;\n",
        "           #+ let's choose 0\n",
        "        name_of_display_list_1 = f\"description_word_counts[{this_desc_idx}]\",\n",
        "        name_of_display_list_2 = \"application_word_counts[0]\"\n",
        ")\n",
        "\n",
        "fig_filename_appl = \"\"\n",
        "\n",
        "if rank_appl is None:\n",
        "    import matplotlib.image as mpimg\n",
        "    fig_filename_appl = \"application_word_not_found.png\"\n",
        "    img = mpimg.imread(fig_filename_appl)\n",
        "    imgplot = plt.imshow(img)\n",
        "##endof:  if rank_desc\n",
        "else:\n",
        "    corresponding_index = rank_appl\n",
        "\n",
        "    get_freq_histo_specific(application_word_counts[0],\n",
        "                            rank_index_1=corresponding_index,\n",
        "                            n_surrounding_words=3,\n",
        "                            do_show_word_and_count_lists=False,\n",
        "                            ylim_top_val=max_graph_proportion\n",
        "    )\n",
        "\n",
        "    fig_filename_appl = (f\"application_word_rank_{corresponding_index}_\"\n",
        "                         f\"desc_{desc_fname_idx_to_show}.png\"\n",
        "                        )\n",
        "\n",
        "    title_for_appl = (f\"Word frequency rank ({rank_appl}) and surrounding context in \"\n",
        "                      f\"job application for the word, {this_corresponding_word}\"\n",
        "                     )\n",
        "    plt.title(title_for_appl)\n",
        "\n",
        "    plt.savefig(fig_filename_appl,\n",
        "            bbox_inches='tight')\n",
        "\n",
        "    plt.show()\n",
        "##endof:  ##endof:  if/else rank_desc"
      ],
      "metadata": {
        "colab": {
          "base_uri": "https://localhost:8080/",
          "height": 372
        },
        "id": "OF3OD2n6qdTM",
        "outputId": "59576f96-0183-46ae-b73f-9703a7733189"
      },
      "id": "OF3OD2n6qdTM",
      "execution_count": 15,
      "outputs": [
        {
          "output_type": "display_data",
          "data": {
            "text/plain": [
              "<Figure size 1000x300 with 1 Axes>"
            ],
            "image/png": "[encoded data removed]"
          },
          "metadata": {}
        }
      ]
    },
    {
      "cell_type": "code",
      "source": [
        "print(\"  img src values for the two images:\")\n",
        "print(f'\"{fig_filename_desc}\"')\n",
        "print(f'\"{fig_filename_appl}\"')\n",
        "\n",
        "print()\n",
        "print(\"  img alt values for the two images:\")\n",
        "alt_text_1 = (f'\"Histogram for the word, {this_corresponding_word}, in '\n",
        "               'the job description text\"'\n",
        "             )\n",
        "alt_text_2 = (f'\"Histogram for the word, {this_corresponding_word}, in '\n",
        "               'the job application text\"'\n",
        "             )\n",
        "print(alt_text_1)\n",
        "print(alt_text_2)"
      ],
      "metadata": {
        "colab": {
          "base_uri": "https://localhost:8080/"
        },
        "id": "MicnJkUeiNkp",
        "outputId": "81f857e6-da8b-4cd9-887c-799b8d46f5b0"
      },
      "id": "MicnJkUeiNkp",
      "execution_count": 16,
      "outputs": [
        {
          "output_type": "stream",
          "name": "stdout",
          "text": [
            "  img src values for the two images:\n",
            "\"description_word_rank_0_desc_0.png\"\n",
            "\"application_word_rank_21_desc_0.png\"\n",
            "\n",
            "  img alt values for the two images:\n",
            "\"Histogram for the word, work, in the job description text\"\n",
            "\"Histogram for the word, work, in the job application text\"\n"
          ]
        }
      ]
    },
    {
      "cell_type": "markdown",
      "source": [
        "### Change the img src values and img alt values, then see the histograms together"
      ],
      "metadata": {
        "id": "bre3g3cBhD9Y"
      },
      "id": "bre3g3cBhD9Y"
    },
    {
      "cell_type": "markdown",
      "source": [
        "You might need to double-click on the image to get the html source. You also might need to click on the image (or image-not-found icon) just to make things reload.\n",
        "\n",
        "Actually, I've found that a good way to make things re-render is to put `./` in front of the first `src=\"`, evaluate the cell, and then remove the `./`.\n",
        "\n",
        "Or, for a full-path link, change one of the `/` to `//`, re-evaluate the cell, then change it back and re-evaluate.\n",
        "\n",
        "<br/>\n",
        "<div>\n",
        "  <img src=\"https://github.com/bballdave025/job-app-word-freq/blob/polished-5part-presented/#copy-in#.png?raw=1\"\n",
        "       alt=\"#copy-in#\"\n",
        "       width=\"auto\">\n",
        "</div>\n",
        "<br/>\n",
        "\n",
        "<br/>\n",
        "<div>\n",
        "  <img src=\"https://github.com/bballdave025/job-app-word-freq/blob/polished-5part-presented/#copy-in#?raw=1\"\n",
        "       alt=\"#copy-in#\"\n",
        "       width=\"auto\">\n",
        "</div>\n",
        "<br/>"
      ],
      "metadata": {
        "id": "dUnE3FoqhDzs"
      },
      "id": "dUnE3FoqhDzs"
    },
    {
      "cell_type": "markdown",
      "source": [
        "Here's where I should take a screenshot and save it. Maybe put some nice dotted\n",
        "lines connecting the '#word#' bars. Then, put it in another text box. Also,\n",
        "get it ready for the portfolio page."
      ],
      "metadata": {
        "id": "s751Ya8ThZhI"
      },
      "id": "s751Ya8ThZhI"
    },
    {
      "cell_type": "markdown",
      "source": [
        "## 3rd Most Frequent Word in Job Description"
      ],
      "metadata": {
        "id": "7czUay_6hFMT"
      },
      "id": "7czUay_6hFMT"
    },
    {
      "cell_type": "code",
      "source": [],
      "metadata": {
        "id": "Sm-sOIqVhEUP"
      },
      "id": "Sm-sOIqVhEUP",
      "execution_count": null,
      "outputs": []
    },
    {
      "cell_type": "code",
      "source": [],
      "metadata": {
        "id": "gy38dGGDhM5H"
      },
      "id": "gy38dGGDhM5H",
      "execution_count": null,
      "outputs": []
    },
    {
      "cell_type": "code",
      "source": [],
      "metadata": {
        "id": "YDlbCsy3hMuH"
      },
      "id": "YDlbCsy3hMuH",
      "execution_count": null,
      "outputs": []
    },
    {
      "cell_type": "markdown",
      "source": [],
      "metadata": {
        "id": "7zDOdmvmhOMU"
      },
      "id": "7zDOdmvmhOMU"
    },
    {
      "cell_type": "markdown",
      "source": [],
      "metadata": {
        "id": "-WmVAIyKhN9a"
      },
      "id": "-WmVAIyKhN9a"
    },
    {
      "cell_type": "markdown",
      "source": [],
      "metadata": {
        "id": "xElnPTj2hDrO"
      },
      "id": "xElnPTj2hDrO"
    },
    {
      "cell_type": "markdown",
      "source": [
        "## 4th Most Frequent Word in Job Description"
      ],
      "metadata": {
        "id": "9xx_UT-xhawv"
      },
      "id": "9xx_UT-xhawv"
    },
    {
      "cell_type": "code",
      "source": [],
      "metadata": {
        "id": "5pB6m55ehfBS"
      },
      "id": "5pB6m55ehfBS",
      "execution_count": null,
      "outputs": []
    },
    {
      "cell_type": "code",
      "source": [],
      "metadata": {
        "id": "M4YUN3fAhfa5"
      },
      "id": "M4YUN3fAhfa5",
      "execution_count": null,
      "outputs": []
    },
    {
      "cell_type": "code",
      "source": [],
      "metadata": {
        "id": "Ydw_rW5YhfQP"
      },
      "id": "Ydw_rW5YhfQP",
      "execution_count": null,
      "outputs": []
    },
    {
      "cell_type": "markdown",
      "source": [],
      "metadata": {
        "id": "P06FMVLThgPu"
      },
      "id": "P06FMVLThgPu"
    },
    {
      "cell_type": "markdown",
      "source": [],
      "metadata": {
        "id": "MSpTMENlhgGZ"
      },
      "id": "MSpTMENlhgGZ"
    },
    {
      "cell_type": "markdown",
      "source": [],
      "metadata": {
        "id": "tf0Xelrahf8P"
      },
      "id": "tf0Xelrahf8P"
    },
    {
      "cell_type": "markdown",
      "source": [
        "## 5th Most Frequent Word in Job Description"
      ],
      "metadata": {
        "id": "AcSuUXfehhPI"
      },
      "id": "AcSuUXfehhPI"
    },
    {
      "cell_type": "code",
      "source": [],
      "metadata": {
        "id": "e5aWb4hkhlc0"
      },
      "id": "e5aWb4hkhlc0",
      "execution_count": null,
      "outputs": []
    },
    {
      "cell_type": "code",
      "source": [],
      "metadata": {
        "id": "jyPzWs6VhlzN"
      },
      "id": "jyPzWs6VhlzN",
      "execution_count": null,
      "outputs": []
    },
    {
      "cell_type": "code",
      "source": [],
      "metadata": {
        "id": "QtrJ6aIchmO8"
      },
      "id": "QtrJ6aIchmO8",
      "execution_count": null,
      "outputs": []
    },
    {
      "cell_type": "markdown",
      "source": [],
      "metadata": {
        "id": "mpGkSnTchnUj"
      },
      "id": "mpGkSnTchnUj"
    },
    {
      "cell_type": "markdown",
      "source": [],
      "metadata": {
        "id": "Zf3ZnBVBhnHD"
      },
      "id": "Zf3ZnBVBhnHD"
    },
    {
      "cell_type": "markdown",
      "source": [],
      "metadata": {
        "id": "w0BGmYCBhm2F"
      },
      "id": "w0BGmYCBhm2F"
    },
    {
      "id": "dcf7ae60",
      "cell_type": "markdown",
      "source": [
        "## Output for Description and Application:\n",
        "\n",
        "### Oh, I did this above\n",
        "\n",
        "### <strike>&lt;FILL THIS IN&gt;</strike>\n",
        "\n",
        "@TODO : I need to look at what I've done here in previous versions.\n",
        "\n",
        "### Done"
      ],
      "metadata": {
        "id": "dcf7ae60"
      }
    },
    {
      "id": "25c55c58",
      "cell_type": "code",
      "source": [
        "# #######################\n",
        "# # No need to run again\n",
        "# #####\n",
        "# !powershell -c (Get-Date -UFormat \"%s_%Y%m%dT%H%M%S%Z00\") -replace '[.][0-9]*_', '_'"
      ],
      "metadata": {
        "trusted": false,
        "id": "25c55c58"
      },
      "outputs": [],
      "execution_count": null
    },
    {
      "id": "fd1acab5",
      "cell_type": "markdown",
      "source": [
        "The output when I actually did this was\n",
        "\n",
        "```\n",
        "1693128500_20230827T092820-0600\n",
        "```"
      ],
      "metadata": {
        "id": "fd1acab5"
      }
    },
    {
      "id": "92e01967",
      "cell_type": "markdown",
      "source": [
        "## Future Steps"
      ],
      "metadata": {
        "id": "92e01967"
      }
    },
    {
      "id": "779b13da",
      "cell_type": "markdown",
      "source": [
        "- Look at ranking, counts, percentage, etc. for FamilySearch's (job description's) top 25 words as found in my (job application's) word counts, then vice-versa.\n",
        "  - Code setup completed 2023-08-20. Putting all 25 in would make a very busy display, so I just did a few.\n",
        "- Get rid of words that are necessary for grammar, but which don't matter too much in determining whether the two documents match up. (Found term on 2023-08-07. It's \"stopwords\".)\n",
        "  - Completed 2023-08-09"
      ],
      "metadata": {
        "id": "779b13da"
      }
    },
    {
      "id": "79e7f734",
      "cell_type": "markdown",
      "source": [
        "**Some new future steps**\n",
        "\n",
        "- Do word counts for the pair of top 25, but then also do the fraction each word comprises of the whole (non-stopword) text.\n",
        "  - Completed sometime before 2023-08-27"
      ],
      "metadata": {
        "id": "79e7f734"
      }
    },
    {
      "id": "6d73f0f8",
      "cell_type": "code",
      "source": [],
      "metadata": {
        "trusted": false,
        "id": "6d73f0f8"
      },
      "outputs": [],
      "execution_count": null
    }
  ]
}